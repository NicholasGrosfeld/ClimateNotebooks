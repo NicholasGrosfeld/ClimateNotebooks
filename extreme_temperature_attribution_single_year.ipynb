{
 "cells": [
  {
   "cell_type": "markdown",
   "metadata": {},
   "source": [
    "This work is based on the recent observation that the long-term average number of days above 40 degrees celsius observed at Wagga Wagga each year is around 2.5, while during the year 2019, there were 19 days observed with a maximum temperature above 40 degrees. Use the statistical normal distribution to represent the natural variability of the number of days above 40 degrees, it is attempted to calculate the probability that a number as high as 19 is observed due to natural variability alone. The file of daily maximum temperature observations is sourced from http://www.bom.gov.au/jsp/ncc/cdio/weatherData/av?p_nccObsCode=122&p_display_type=dailyDataFile&p_startYear=&p_c=&p_stn_num=072150. "
   ]
  },
  {
   "cell_type": "code",
   "execution_count": 70,
   "metadata": {
    "scrolled": false
   },
   "outputs": [],
   "source": [
    "import numpy as np\n",
    "import pandas as pd\n",
    "import scipy.stats"
   ]
  },
  {
   "cell_type": "code",
   "execution_count": 77,
   "metadata": {
    "scrolled": true
   },
   "outputs": [],
   "source": [
    "# Set the directory path and file name of the data file\n",
    "filepath = '/Users/nick/Documents/Research/WaggaWagga_Temp/'\n",
    "filename = 'ww_temp_data.csv'"
   ]
  },
  {
   "cell_type": "code",
   "execution_count": 78,
   "metadata": {
    "scrolled": false
   },
   "outputs": [
    {
     "data": {
      "text/html": [
       "<div>\n",
       "<style scoped>\n",
       "    .dataframe tbody tr th:only-of-type {\n",
       "        vertical-align: middle;\n",
       "    }\n",
       "\n",
       "    .dataframe tbody tr th {\n",
       "        vertical-align: top;\n",
       "    }\n",
       "\n",
       "    .dataframe thead th {\n",
       "        text-align: right;\n",
       "    }\n",
       "</style>\n",
       "<table border=\"1\" class=\"dataframe\">\n",
       "  <thead>\n",
       "    <tr style=\"text-align: right;\">\n",
       "      <th></th>\n",
       "      <th>Product code</th>\n",
       "      <th>Bureau of Meteorology station number</th>\n",
       "      <th>Year</th>\n",
       "      <th>Month</th>\n",
       "      <th>Day</th>\n",
       "      <th>Maximum temperature (Degree C)</th>\n",
       "      <th>Days of accumulation of maximum temperature</th>\n",
       "      <th>Quality</th>\n",
       "    </tr>\n",
       "  </thead>\n",
       "  <tbody>\n",
       "    <tr>\n",
       "      <td>0</td>\n",
       "      <td>IDCJAC0010</td>\n",
       "      <td>72150</td>\n",
       "      <td>1942</td>\n",
       "      <td>1</td>\n",
       "      <td>1</td>\n",
       "      <td>NaN</td>\n",
       "      <td>NaN</td>\n",
       "      <td>NaN</td>\n",
       "    </tr>\n",
       "    <tr>\n",
       "      <td>1</td>\n",
       "      <td>IDCJAC0010</td>\n",
       "      <td>72150</td>\n",
       "      <td>1942</td>\n",
       "      <td>1</td>\n",
       "      <td>2</td>\n",
       "      <td>NaN</td>\n",
       "      <td>NaN</td>\n",
       "      <td>NaN</td>\n",
       "    </tr>\n",
       "    <tr>\n",
       "      <td>2</td>\n",
       "      <td>IDCJAC0010</td>\n",
       "      <td>72150</td>\n",
       "      <td>1942</td>\n",
       "      <td>1</td>\n",
       "      <td>3</td>\n",
       "      <td>NaN</td>\n",
       "      <td>NaN</td>\n",
       "      <td>NaN</td>\n",
       "    </tr>\n",
       "    <tr>\n",
       "      <td>3</td>\n",
       "      <td>IDCJAC0010</td>\n",
       "      <td>72150</td>\n",
       "      <td>1942</td>\n",
       "      <td>1</td>\n",
       "      <td>4</td>\n",
       "      <td>NaN</td>\n",
       "      <td>NaN</td>\n",
       "      <td>NaN</td>\n",
       "    </tr>\n",
       "    <tr>\n",
       "      <td>4</td>\n",
       "      <td>IDCJAC0010</td>\n",
       "      <td>72150</td>\n",
       "      <td>1942</td>\n",
       "      <td>1</td>\n",
       "      <td>5</td>\n",
       "      <td>NaN</td>\n",
       "      <td>NaN</td>\n",
       "      <td>NaN</td>\n",
       "    </tr>\n",
       "  </tbody>\n",
       "</table>\n",
       "</div>"
      ],
      "text/plain": [
       "  Product code  Bureau of Meteorology station number  Year  Month  Day  \\\n",
       "0   IDCJAC0010                                 72150  1942      1    1   \n",
       "1   IDCJAC0010                                 72150  1942      1    2   \n",
       "2   IDCJAC0010                                 72150  1942      1    3   \n",
       "3   IDCJAC0010                                 72150  1942      1    4   \n",
       "4   IDCJAC0010                                 72150  1942      1    5   \n",
       "\n",
       "   Maximum temperature (Degree C)  \\\n",
       "0                             NaN   \n",
       "1                             NaN   \n",
       "2                             NaN   \n",
       "3                             NaN   \n",
       "4                             NaN   \n",
       "\n",
       "   Days of accumulation of maximum temperature Quality  \n",
       "0                                          NaN     NaN  \n",
       "1                                          NaN     NaN  \n",
       "2                                          NaN     NaN  \n",
       "3                                          NaN     NaN  \n",
       "4                                          NaN     NaN  "
      ]
     },
     "execution_count": 78,
     "metadata": {},
     "output_type": "execute_result"
    }
   ],
   "source": [
    "# read in the file of temperature data as a pandas dataframe\n",
    "temp_pd = pd.read_csv(filepath + filename)\n",
    "\n",
    "# view a snapshot of the structure of the temperature data\n",
    "temp_pd.head(5) "
   ]
  },
  {
   "cell_type": "code",
   "execution_count": 79,
   "metadata": {
    "scrolled": false
   },
   "outputs": [
    {
     "name": "stdout",
     "output_type": "stream",
     "text": [
      "[[1.942e+03 1.000e+00 1.000e+00       nan]\n",
      " [1.942e+03 1.000e+00 2.000e+00       nan]\n",
      " [1.942e+03 1.000e+00 3.000e+00       nan]\n",
      " [1.942e+03 1.000e+00 4.000e+00       nan]\n",
      " [1.942e+03 1.000e+00 5.000e+00       nan]]\n"
     ]
    }
   ],
   "source": [
    "# Extract the columns 'year', 'month', 'day', and 'Maximum temperature (Degree C)' and store them in a numpy array\n",
    "temp_np = np.array([temp_pd['Year'],temp_pd['Month'],temp_pd['Day'],temp_pd['Maximum temperature (Degree C)']]).transpose()\n",
    "\n",
    "# View the organisation of the numpy array\n",
    "print(temp_np[:5, :]) "
   ]
  },
  {
   "cell_type": "code",
   "execution_count": 80,
   "metadata": {
    "scrolled": false
   },
   "outputs": [],
   "source": [
    "# Clean up the data by dealing with missing values.\n",
    "# Separate the observations and missing data in different arrays. Only the data in the array 'temp_obs' will be\n",
    "# used in the later analysis. \n",
    "ii = np.isnan(temp_np[:,3])\n",
    "temp_obs = temp_np[ii == False, :]\n",
    "temp_missing = temp_np[ii, :]\n",
    "\n",
    "# This line can be un-commented to view the extent of the missing data. \n",
    "#print(temp_missing)"
   ]
  },
  {
   "cell_type": "code",
   "execution_count": 81,
   "metadata": {
    "scrolled": false
   },
   "outputs": [],
   "source": [
    "# This cell extracts the number of days with a maximum temperature over 40 degrees from the observational record. \n",
    "# First we set up a vector of the years in our observational period to loop through:\n",
    "year_first = temp_np[0,0]\n",
    "year_last = temp_np[-1,0]\n",
    "years = np.arange(year_first, year_last + 1, 1)\n",
    "\n",
    "# create an empty array to store the number of 40 degree days for each year\n",
    "ly = np.shape(years)[0]\n",
    "yearly_days_over_40 = np.zeros((ly, 2))\n",
    "yearly_days_over_40[:,0] = years\n",
    "\n",
    "# Find the number of days >= 40 degrees for each year in the observational record, and store it as a np array\n",
    "for y in years:\n",
    "    \n",
    "    days_over_40 = temp_obs[(temp_obs[:,0] == y) & (temp_obs[:,3] >= 40.0), :]\n",
    "    yearly_days_over_40[yearly_days_over_40[:,0] == y, 1] = np.shape(days_over_40)[0]\n",
    "    \n",
    "#print(yearly_days_over_40)"
   ]
  },
  {
   "cell_type": "markdown",
   "metadata": {},
   "source": [
    "Before we test the probability that a given year (such as 2019) is observed, we can view a simple histogram of the number of 40-degree days each year to see a visual representation of the data in the climatological record:"
   ]
  },
  {
   "cell_type": "code",
   "execution_count": 82,
   "metadata": {
    "scrolled": true
   },
   "outputs": [
    {
     "data": {
      "image/png": "[encoded data removed]",
      "text/plain": [
       "<Figure size 432x288 with 1 Axes>"
      ]
     },
     "metadata": {
      "needs_background": "light"
     },
     "output_type": "display_data"
    }
   ],
   "source": [
    "import matplotlib.pyplot as plt\n",
    "\n",
    "# Create a plot(figure) object, and then an axes object on that plot object\n",
    "fig = plt.figure()\n",
    "ax = fig.add_axes([0,0,1.3,1])\n",
    "\n",
    "year_labels = np.arange(years[0], years[-1], 2, dtype = int)\n",
    "\n",
    "# Set the axes attributes here\n",
    "ax.set_title('Wagga Wagga Days of Maximum Temperature over 40 degrees Celsius per Year', weight = 'bold')\n",
    "ax.set_xlabel('Year')\n",
    "ax.set_ylabel('Days above 40 degrees')\n",
    "\n",
    "ax.set_xlim(years[0], years[-1])\n",
    "ax.set_xticks(year_labels)\n",
    "ax.set_xticklabels(year_labels, rotation = 'vertical')\n",
    "\n",
    "ax.bar(yearly_days_over_40[:,0], yearly_days_over_40[:,1], color = 'red')\n",
    "plt.show()"
   ]
  },
  {
   "cell_type": "markdown",
   "metadata": {},
   "source": [
    "In this section we begin the analysis of recent temperature extremes. We begin by first establishing the baseline climatology of days above 40 degrees in the historical record, computing the mean and stndard deviations of these quantities. \n",
    "\n",
    "The number of days of a temperature greater than 40 degrees will be treated as a proportion of the whole year. It is not possible to have less than 0 days with a maximum temperature greater than 40 degrees, and simnilarly it is also impossible to have greater than 365 such days. Thus we are testing the proportion of days out of the whole year duration that fit a binary characteristic (i.e. is the maximum temperature greater than 40 degrees or not?)."
   ]
  },
  {
   "cell_type": "code",
   "execution_count": 85,
   "metadata": {
    "scrolled": false
   },
   "outputs": [
    {
     "name": "stdout",
     "output_type": "stream",
     "text": [
      "Climatology mean days over 40 degrees: 2.2028985507246377\n",
      "Climatology standard deviation of days over 40 degrees: 2.56836783532541\n",
      "Climatology mean proportion of days over 40 degrees: 0.006035338495135993\n",
      "Climatology standard deviation of proportion of days over 40 degrees: 0.007036624206370986\n"
     ]
    }
   ],
   "source": [
    "# Determine the baseline climatology period, and the mean and variability of the climatology. \n",
    "clim_year_first = 1942\n",
    "clim_year_last = 2010 # this choice is arbitrary and subjective. \n",
    "\n",
    "clim_days_over_40 = yearly_days_over_40[(yearly_days_over_40[:,0] >= clim_year_first) & (yearly_days_over_40[:,0] <= clim_year_last), :]\n",
    "\n",
    "mean_days_over_40 = np.mean(clim_days_over_40[:,1])\n",
    "std_days_over_40 = np.std(clim_days_over_40[:,1])\n",
    "\n",
    "print('Climatology mean days over 40 degrees:', mean_days_over_40)\n",
    "print('Climatology standard deviation of days over 40 degrees:', std_days_over_40)\n",
    "\n",
    "n = 365 # days in a year\n",
    "\n",
    "# express the numbers of days over 40 degrees as a proportion of the whole year\n",
    "pc = mean_days_over_40 / n # mean proportion of 40+ degree days per year in climatology\n",
    "pst = std_days_over_40 / n # standard deviation of proportion of 40+ degree days per year in climatology\n",
    "\n",
    "print('Climatology mean proportion of days over 40 degrees:', pc)\n",
    "print('Climatology standard deviation of proportion of days over 40 degrees:', pst)"
   ]
  },
  {
   "cell_type": "code",
   "execution_count": 89,
   "metadata": {
    "scrolled": false
   },
   "outputs": [
    {
     "name": "stdout",
     "output_type": "stream",
     "text": [
      "Test year days over 40 degrees: 19\n",
      "Test year proportion of days over 40 degrees: 0.052054794520547946\n"
     ]
    }
   ],
   "source": [
    "# Extract the proportion of days above 40 degrees in the year being tested:\n",
    "testyear = 2019\n",
    "testyear_days_over_40 = int(yearly_days_over_40[yearly_days_over_40[:,0] == testyear, 1])\n",
    "\n",
    "print('Test year days over 40 degrees:', testyear_days_over_40)\n",
    "\n",
    "n = 365 # days in a year\n",
    "\n",
    "# express the numbers of days over 40 degrees as a proportion of the whole year\n",
    "pt = testyear_days_over_40 / n\n",
    "\n",
    "print('Test year proportion of days over 40 degrees:', pt)\n"
   ]
  },
  {
   "cell_type": "code",
   "execution_count": 90,
   "metadata": {
    "scrolled": false
   },
   "outputs": [
    {
     "name": "stdout",
     "output_type": "stream",
     "text": [
      "Probability of observed proportion in test year:  3.076139343249906e-11\n"
     ]
    }
   ],
   "source": [
    "# Compute the probability of the a proportion of days above 40 degrees equal to (or greater than) the year being\n",
    "# tested, based on the natural climate variability represented with a normal distribution (the validity of the\n",
    "# normal distribution to this problem will be discussed in a later section):\n",
    "\n",
    "prob_test = 1 - scipy.stats.norm(pc, pst).cdf(pt) # 1 - cdf for the upper tail probability\n",
    "print('Probability of observed proportion in test year: ', prob_test)\n"
   ]
  },
  {
   "cell_type": "markdown",
   "metadata": {},
   "source": [
    "Using a baseline climatology period of 1942-2010, we find that the probability of a proportion of dats above 40 degrees as extreme as 2019 is in the order of 10^(-11). Limiting the climatology to earlier years (e.g. 2000) results in an even smaller probability that is too small to show. "
   ]
  },
  {
   "cell_type": "markdown",
   "metadata": {},
   "source": [
    "While the year 2019 stands out as a year with a number of 40 degree days which is several times higher than the long-term average, the resulting probability associated with the extreme value observed is probably distorted by the use of the normal distribution for the analysis. It is known that the normal distribution is a poor representation of a proportion when the product of the proportion and the number of units in the sample size is either very low or very high. Various guides on statisics reccomend a 'rule-of-thumb' that the values of n * p and n * (1 - p) should both be greater than at least 5 (with some works reccomending 10 or 15 - the higher the value, the better the fit to a normal distribution). In this case, the value of n * p is simply 365 * 2.2 / 365 = 2.2, which is less than half of the lowest reccomended guideline of 5. A different statistical distribution to represent the variability of the baseline climate would give a better estimate of the probability of observing the temperature extremes in 2019.  "
   ]
  },
  {
   "cell_type": "markdown",
   "metadata": {},
   "source": [
    "Another point of discussion is the length of time taken for any increase in extreme temperatures to appear clearly in the historical record. Viewing the histogram of observed days of maximum temperatures above 40 degrees, little trend in the number of 40 degree days prior to the 2000's is evident at a first glance.\n"
   ]
  },
  {
   "cell_type": "markdown",
   "metadata": {},
   "source": [
    "To conclude, it can be seen that the year 2019 stands out as a year of extreme temperature in the context of the historical record. The probability of observing a such an expression of extreme temperature due to natural variability alone is small, but is likely to be exaggerated by the use of the normal distribution to model the natural variability. This work is not intended to present a rigorous attribution of observed temperature extremes to anthropogenic climate change, but rather to present a simple demonstration of the principles of statistics and their application to climate analysis. "
   ]
  },
  {
   "cell_type": "code",
   "execution_count": null,
   "metadata": {
    "scrolled": true
   },
   "outputs": [],
   "source": []
  }
 ],
 "metadata": {
  "kernelspec": {
   "display_name": "Python 3",
   "language": "python",
   "name": "python3"
  },
  "language_info": {
   "codemirror_mode": {
    "name": "ipython",
    "version": 3
   },
   "file_extension": ".py",
   "mimetype": "text/x-python",
   "name": "python",
   "nbconvert_exporter": "python",
   "pygments_lexer": "ipython3",
   "version": "3.7.4"
  }
 },
 "nbformat": 4,
 "nbformat_minor": 2
}
